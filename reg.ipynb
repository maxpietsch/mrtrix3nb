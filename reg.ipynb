{
 "cells": [
  {
   "cell_type": "code",
   "execution_count": null,
   "metadata": {},
   "outputs": [],
   "source": [
    "# default_exp reg"
   ]
  },
  {
   "cell_type": "markdown",
   "metadata": {},
   "source": [
    "# Registration and transformation tools\n",
    "> Functions for MRtrix3-based pipelines in Jupyter notebooks"
   ]
  },
  {
   "cell_type": "code",
   "execution_count": null,
   "metadata": {},
   "outputs": [],
   "source": [
    "#hide\n",
    "from nbdev.showdoc import *"
   ]
  },
  {
   "cell_type": "code",
   "execution_count": null,
   "metadata": {},
   "outputs": [],
   "source": [
    "# export\n",
    "def warpconvert_fsl2mrtrix(fslwarp, mrtrixwarp, fsl_in, fsl_ref, fsl_in_strides='+1,+2,+3', force=''):\n",
    "    cmds = []\n",
    "    cmds.append(f'mrconvert {fsl_in} -stride {fsl_in_strides} <TMP>/source.nii -force')\n",
    "    cmds.append(f'warpinit <TMP>/source.nii <TMP>/identity_warp.nii -force')\n",
    "    cmds.append(f'/usr/share/fsl/5.0/bin/applywarp --ref={fsl_ref} --in=<TMP>/identity_warp.nii --warp={fslwarp} --out=<TMP>/warp.nii.gz')\n",
    "    cmds.append(f'warpcorrect <TMP>/warp.nii.gz {mrtrixwarp} ' + force)\n",
    "    return cmds\n",
    "\n",
    "# TODO: add as method to Comp via decorator?"
   ]
  },
  {
   "cell_type": "code",
   "execution_count": null,
   "metadata": {},
   "outputs": [],
   "source": []
  }
 ],
 "metadata": {
  "kernelspec": {
   "display_name": "Python 3",
   "language": "python",
   "name": "python3"
  }
 },
 "nbformat": 4,
 "nbformat_minor": 2
}
