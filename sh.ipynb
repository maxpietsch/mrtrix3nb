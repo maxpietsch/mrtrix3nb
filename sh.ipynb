{
 "cells": [
  {
   "cell_type": "code",
   "execution_count": null,
   "metadata": {},
   "outputs": [],
   "source": [
    "# default_exp sh"
   ]
  },
  {
   "cell_type": "markdown",
   "metadata": {},
   "source": [
    "# mrtrix-format spherical harmonics image handling"
   ]
  },
  {
   "cell_type": "markdown",
   "metadata": {},
   "source": [
    "also see: https://github.com/MRtrix3/mrtrix3/pull/1617 extends SH storage to allow storing SH along the 5th dimension of an image, one per shell. shconv now allows multiple ODF/response pairs (much like dwi2fod and mtnormalise do), and allows multi-shell responses (in which case it'll produce a 5D output). sh2amp can now accepts directions files in spherical or Cartesian coordinates, full-blown DW encoding files, or an image with a DW encoding in its header (required to handle multi-shell inputs).\n",
    "\n",
    "This allows forward-modelling of all our spherical deconvolution operations, e.g. for MSMT-CSD:\n",
    "\n",
    "shconv wm.mif wm.txt gm.mif gm.txt csf.mif csf.txt - | sh2amp - dwi_orig.mif dwi_predicted.mif Also in there are a few changes to docs handling, and minor updates to the tests."
   ]
  },
  {
   "cell_type": "code",
   "execution_count": null,
   "metadata": {},
   "outputs": [],
   "source": [
    "#hide\n",
    "from nbdev.showdoc import *"
   ]
  },
  {
   "cell_type": "code",
   "execution_count": null,
   "metadata": {},
   "outputs": [],
   "source": [
    "#export\n",
    "\n",
    "'''\n",
    "process spherical harmonics images in MRtrix format.\n",
    "\n",
    "\n",
    "'''\n",
    "\n",
    "\n",
    "def sh2power(R, lmax):\n",
    "    import numpy as np\n",
    "    def index (l, m):\n",
    "        return int(l * (l+1) / 2 + m)\n",
    "    \n",
    "    power = np.zeros(list(R.shape[:3])+[lmax//2+1], dtype=np.float64)\n",
    "    for il, l in enumerate(range(0, lmax+2, 2)):\n",
    "        for m in range(-l, l+1):\n",
    "            idx = index (l, m)\n",
    "            power[...,il] += R[...,idx]**2\n",
    "        power[...,il] /= (np.pi * 4)\n",
    "    return power\n",
    "\n",
    "\n",
    "def sh2spectrum(R, lmax=6):\n",
    "    \"\"\" L2 norm (mean and σ): expectation and square root of sum of squares in each frequency band (order)\"\"\"\n",
    "    import numpy as np\n",
    "    # https://en.wikipedia.org/wiki/Spherical_harmonics#Power_spectrum_in_signal_processing\n",
    "    # square root of energy https://www.dsprelated.com/freebooks/mdft/Signal_Metrics.html\n",
    "    return np.sqrt(sh2power(R, lmax) * np.pi * 4)\n",
    "\n",
    "\n",
    "def sh2RISH(R, lmax):\n",
    "    \"\"\"sum of squares in each frequency band (order)\"\"\"\n",
    "    import numpy as np\n",
    "    # Kazhdan, M., Funkhouser, T., Rusinkiewicz, S.: Rotation invariant spherical harmonic representation of 3D shape descriptors. Symposium on Geometry Processing (2003)\n",
    "    return sh2power(R, lmax) * np.pi * 4\n",
    "\n",
    "\n",
    "def amp2shellagg(dwi, fun='mean', grad=None, btol=50.):\n",
    "    import numpy as np\n",
    "    if fun == 'mean':\n",
    "        fun = np.mean\n",
    "    else:\n",
    "        raise NotImplementedError(str(fun))\n",
    "        \n",
    "    if isinstance(dwi, str):\n",
    "        dwi = load_mrtrix(dwi)\n",
    "        data = dwi.data\n",
    "        if grad is None:\n",
    "            grad = dwi.grad\n",
    "    elif isinstance(dwi, np.ndarray):\n",
    "        data = dwi\n",
    "    \n",
    "    if grad is None:\n",
    "        raise ValueError('gradient table required')\n",
    "\n",
    "    bs = grad[:,3]\n",
    "    if btol > 0:\n",
    "        bs = np.round(bs / float(btol)) * btol\n",
    "    ubs = sorted(np.unique(bs).tolist())\n",
    "    \n",
    "\n",
    "    agg = np.zeros(list(dwi.shape[:3])+[len(ubs)], dtype=np.float32)\n",
    "    for ib, b in enumerate (ubs):\n",
    "        agg[...,ib] = fun(data[...,bs==b], axis=3)\n",
    "\n",
    "    return agg\n",
    "\n",
    "import tempfile\n",
    "def amp2mssh(dwi, grad=None, btol=50., lmax_callback=None):\n",
    "    from mrtrix3nb.utils.mif import Image, load_mrtrix\n",
    "    from mrtrix3nb.core import Comp\n",
    "    import numpy as np\n",
    "    \"\"\"returns list with one sh series per b-value\"\"\"\n",
    "    shs = []\n",
    "    with tempfile.TemporaryDirectory() as tmpdirname:\n",
    "        with Comp(loglevel='ERROR', progress=False) as run:\n",
    "            if isinstance(dwi, str):\n",
    "                im = load_mrtrix(dwi, read_data=True)\n",
    "                if grad is not None:\n",
    "                    im.grad = grad\n",
    "\n",
    "                if im.grad is None:\n",
    "                    raise ValueError('gradient table required for', dwi)\n",
    "                im.save(tmpdirname+'/dwi.mif')\n",
    "                dwi = tmpdirname+'/dwi.mif'\n",
    "\n",
    "            elif isinstance(dwi, np.ndarray):\n",
    "                if grad is None:\n",
    "                    raise ValueError('gradient table required')\n",
    "                im = Image(data=dwi, grad=grad)\n",
    "                im.save(tmpdirname+'/dwi.mif')\n",
    "                dwi = tmpdirname+'/dwi.mif'\n",
    "\n",
    "            bs = im.grad[:,3]\n",
    "            if btol > 0:\n",
    "                bs = np.round(bs / float(btol)) * btol\n",
    "            ubs = sorted(np.unique(bs).tolist())\n",
    "            \n",
    "            shs = []\n",
    "            for ib, b in enumerate(ubs):\n",
    "                lmax = ''\n",
    "                if lmax_callback is not None:\n",
    "                    lmax = ' -lmax ' + str(lmax_callback(im.grad[bs==b]))\n",
    "                if b >= 100:\n",
    "                    run += f'amp2sh {dwi} -shell {b} {tmpdirname}/sh{ib}.mif' + lmax\n",
    "                else:\n",
    "                    run += f'dwiextract {dwi} -shell {b} - | mrmath - mean -axis 3 - | mrcalc - 1.77245385091 -mult 2 -mult - | mrconvert - -axes 0:2,-1 {tmpdirname}/sh{ib}.mif'\n",
    "                shs.append(f'{tmpdirname}/sh{ib}.mif')\n",
    "        \n",
    "        for ish in range(len(shs)):\n",
    "            shs[ish] = load_mrtrix(shs[ish]).data\n",
    "\n",
    "    return shs"
   ]
  },
  {
   "cell_type": "code",
   "execution_count": null,
   "metadata": {},
   "outputs": [],
   "source": []
  },
  {
   "cell_type": "code",
   "execution_count": null,
   "metadata": {},
   "outputs": [
    {
     "data": {
      "text/plain": [
       "(100, 100, 64, 45)"
      ]
     },
     "execution_count": null,
     "metadata": {},
     "output_type": "execute_result"
    }
   ],
   "source": [
    "#hide\n",
    "dwi = '/Users/mp/data/tmp/postmc_dstriped-dwi300.mif'\n",
    "shs = amp2mssh(dwi)\n",
    "shs[-1].shape"
   ]
  },
  {
   "cell_type": "code",
   "execution_count": null,
   "metadata": {},
   "outputs": [],
   "source": [
    "# !make"
   ]
  },
  {
   "cell_type": "code",
   "execution_count": null,
   "metadata": {},
   "outputs": [],
   "source": []
  }
 ],
 "metadata": {
  "kernelspec": {
   "display_name": "Python 3",
   "language": "python",
   "name": "python3"
  }
 },
 "nbformat": 4,
 "nbformat_minor": 4
}
