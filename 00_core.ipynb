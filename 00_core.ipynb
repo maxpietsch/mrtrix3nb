{
 "cells": [
  {
   "cell_type": "code",
   "execution_count": null,
   "metadata": {},
   "outputs": [],
   "source": [
    "# default_exp core"
   ]
  },
  {
   "cell_type": "markdown",
   "metadata": {},
   "source": [
    "# MRtrix3notebook\n",
    "\n",
    "> Develop MRtrix3-based pipelines using Jupyter notebooks"
   ]
  },
  {
   "cell_type": "code",
   "execution_count": null,
   "metadata": {},
   "outputs": [],
   "source": [
    "#hide\n",
    "from nbdev.showdoc import *"
   ]
  },
  {
   "cell_type": "code",
   "execution_count": null,
   "metadata": {},
   "outputs": [],
   "source": [
    "# export\n",
    "import os\n",
    "from pathlib import Path, PurePath\n",
    "\n",
    "def exists(s, minsize_bytes=100, isdir=False):\n",
    "    # check if `s` exists (file or dir if `isdir`) and has at least `minsize_bytes` bytes\n",
    "    if isdir:\n",
    "        return os.path.isdir(s)\n",
    "    if not os.path.isfile(s):\n",
    "        return False\n",
    "    if isinstance(s, PurePath):\n",
    "        s = str(s)\n",
    "    if s.endswith('.mif') or s.endswith('.mif.gz') or s.endswith('.nii') or s.endswith('.nii.gz'):\n",
    "        size = Path(s).stat().st_size\n",
    "        if size < minsize_bytes:\n",
    "            print(s, 'size', size, 'Bytes')\n",
    "            return False\n",
    "    return True\n",
    "\n",
    "# exists('/tmp')"
   ]
  },
  {
   "cell_type": "code",
   "execution_count": null,
   "metadata": {},
   "outputs": [],
   "source": [
    "# export\n",
    "import os\n",
    "import shutil\n",
    "import logging\n",
    "import subprocess\n",
    "import shlex\n",
    "from pathlib import Path\n",
    "from collections import deque\n",
    "import pprint\n",
    "\n",
    "logging.basicConfig()"
   ]
  },
  {
   "cell_type": "code",
   "execution_count": null,
   "metadata": {},
   "outputs": [],
   "source": [
    "# export\n",
    "from tqdm.auto import tqdm\n",
    "import tempfile\n",
    "\n",
    "class Comp:\n",
    "    def __benice(self):\n",
    "        try:\n",
    "            import psutil\n",
    "        except ImportError:\n",
    "            print('pip install psutil')\n",
    "            return\n",
    "        \n",
    "        pid = os.getpid()\n",
    "        ps = psutil.Process(pid)\n",
    "        ps.nice(19)\n",
    "        \n",
    "    def __init__(self, dry_run=False, env=None, loglevel='INFO', progress=True, nice=False):\n",
    "        self.dry_run = dry_run\n",
    "        \n",
    "        self.jobs = deque()\n",
    "        \n",
    "        self.logger = logging.getLogger(__name__)\n",
    "        self.logger.setLevel(loglevel)\n",
    "        \n",
    "        # use directory of python binary\n",
    "        python = shutil.which('python') # None if executable not found\n",
    "        if python is None:\n",
    "            raise ImportError(\"could not find python in Path\")\n",
    "        \n",
    "        if env is None:\n",
    "            env = os.environ.copy()\n",
    "        if 'PATH' in env:\n",
    "            env['PATH'] = os.pathsep.join([str(Path(python).parent), env.get('PATH')])\n",
    "        self.logger.debug('env: '+pprint.pformat(env))\n",
    "        self.env = env\n",
    "        self.noprogress = not progress\n",
    "        self.preexec_fn = None\n",
    "        if nice:\n",
    "            self.preexec_fn = self.__benice\n",
    "        self.__tmp_dir = None\n",
    "                    \n",
    "    \n",
    "    def _execute(self, cmd):\n",
    "        if not self.dry_run:\n",
    "            self.logger.debug('running: ' + cmd)\n",
    "            subprocess.check_call(cmd, shell=True, env=self.env, preexec_fn=self.preexec_fn)\n",
    "        else:\n",
    "            self.logger.info('dry_run: ' + cmd)\n",
    "        return \n",
    "        \n",
    "    def run(self):\n",
    "        if not self.jobs:\n",
    "            return\n",
    "        if not self.noprogress: pbar = tqdm(total=len(self.jobs))\n",
    "        while self.jobs:\n",
    "            self._execute(self.jobs.popleft())\n",
    "            if not self.noprogress: pbar.update(1)\n",
    "        if not self.noprogress: pbar.close()\n",
    "    \n",
    "    def __add__(self, x):\n",
    "        if isinstance(x, list):\n",
    "            # convert Pathlib objects to strings\n",
    "            x = [str(e) if isinstance(e, PurePath) else e for e in x]\n",
    "            # join elements, but don't quote |\n",
    "#             try:\n",
    "#                 x = shlex.join(x)\n",
    "#             except AttributeError:\n",
    "            x = ' '.join([shlex.quote(w) if w != '|' else w for w in x ])\n",
    "        elif not isinstance(x, str):\n",
    "            raise TypeError(\"required input is string or list of strings, received \" + str(type(x)))\n",
    "        self.logger.debug('add: '+x)\n",
    "        self.jobs.append(x)\n",
    "        return self\n",
    "            \n",
    "    def __iadd__(self, x):\n",
    "        return self.__add__(x)\n",
    "            \n",
    "    def __repr__(self):\n",
    "        return 'computer %i jobs: %s' % (self.__len__(), str(self.jobs))\n",
    "    \n",
    "    def __str__(self):\n",
    "        return self.__repr__()\n",
    "    \n",
    "#     def __next__(self):\n",
    "#         return self.jobs.get()\n",
    "    \n",
    "    def __len__(self):\n",
    "        return len(self.jobs)\n",
    "    \n",
    "    def __enter__(self):\n",
    "        self.logger.debug('Entering Comp')\n",
    "        return self\n",
    "\n",
    "    def __exit__(self, exc_type, exc, exc_tb):\n",
    "        self.logger.debug('Exiting Comp')\n",
    "        self.run()\n",
    "        \n",
    "    def tmp_dir(self, suffix=None, prefix=None, tmp='/tmp'):\n",
    "        return tempfile.TemporaryDirectory(suffix=suffix, prefix=prefix, dir=tmp)"
   ]
  },
  {
   "cell_type": "code",
   "execution_count": null,
   "metadata": {},
   "outputs": [
    {
     "name": "stderr",
     "output_type": "stream",
     "text": [
      "INFO:__main__:start\n",
      "INFO:__main__:done\n"
     ]
    },
    {
     "data": {
      "application/vnd.jupyter.widget-view+json": {
       "model_id": "be0b06f4f476410d9cda44135f1620de",
       "version_major": 2,
       "version_minor": 0
      },
      "text/plain": [
       "HBox(children=(HTML(value=''), FloatProgress(value=0.0, max=2.0), HTML(value='')))"
      ]
     },
     "metadata": {},
     "output_type": "display_data"
    },
    {
     "name": "stderr",
     "output_type": "stream",
     "text": [
      "INFO:__main__:dry_run: mrinfo --version\n",
      "INFO:__main__:dry_run: dcminfo --version\n"
     ]
    },
    {
     "name": "stdout",
     "output_type": "stream",
     "text": [
      "\n"
     ]
    }
   ],
   "source": [
    "with Comp(dry_run=True) as run:\n",
    "    run.logger.info('start')\n",
    "    run += 'mrinfo --version'\n",
    "    run += ['dcminfo', '--version']\n",
    "    run.logger.info('done')"
   ]
  },
  {
   "cell_type": "code",
   "execution_count": null,
   "metadata": {},
   "outputs": [
    {
     "name": "stdout",
     "output_type": "stream",
     "text": [
      "/tmp/tmp9u2ekdqt\n"
     ]
    },
    {
     "data": {
      "application/vnd.jupyter.widget-view+json": {
       "model_id": "e170755b23b145249cd2f8b6190057ed",
       "version_major": 2,
       "version_minor": 0
      },
      "text/plain": [
       "HBox(children=(HTML(value=''), FloatProgress(value=0.0, max=1.0), HTML(value='')))"
      ]
     },
     "metadata": {},
     "output_type": "display_data"
    },
    {
     "name": "stdout",
     "output_type": "stream",
     "text": [
      "\n"
     ]
    }
   ],
   "source": [
    "c = Comp(loglevel='INFO', nice=True, env={**os.environ, 'MRTRIX_NTHREADS':'4'})\n",
    "with c.tmp_dir() as tmp:\n",
    "    print(tmp)\n",
    "    assert exists(tmp, isdir=True), tmp\n",
    "    c += 'dcminfo --version'\n",
    "    c.run()\n",
    "assert not exists(tmp, isdir=True), tmp"
   ]
  },
  {
   "cell_type": "code",
   "execution_count": null,
   "metadata": {},
   "outputs": [
    {
     "name": "stdout",
     "output_type": "stream",
     "text": [
      "set in descriptor object\n",
      "returned from descriptor object\n",
      "10\n"
     ]
    }
   ],
   "source": [
    "# this is our descriptor object\n",
    "class Bar(object):\n",
    "    def __init__(self):\n",
    "        self.value = ''\n",
    "    def __get__(self, instance, owner):\n",
    "        print (\"returned from descriptor object\")\n",
    "        return self.value\n",
    "    def __set__(self, instance, value):\n",
    "        print (\"set in descriptor object\")\n",
    "        self.value = value\n",
    "    def __delete__(self, instance):\n",
    "        print (\"deleted in descriptor object\")\n",
    "        del self.value\n",
    "\n",
    "class Foo(object):\n",
    "    bar = Bar()\n",
    "\n",
    "f = Foo()\n",
    "f.bar = 10\n",
    "print( f.bar)\n",
    "f = Foo()"
   ]
  },
  {
   "cell_type": "code",
   "execution_count": null,
   "metadata": {},
   "outputs": [],
   "source": []
  },
  {
   "cell_type": "code",
   "execution_count": null,
   "metadata": {},
   "outputs": [],
   "source": []
  },
  {
   "cell_type": "code",
   "execution_count": null,
   "metadata": {},
   "outputs": [],
   "source": []
  },
  {
   "cell_type": "code",
   "execution_count": null,
   "metadata": {},
   "outputs": [
    {
     "name": "stdout",
     "output_type": "stream",
     "text": [
      "computer 1 jobs: deque(['mrinfo -version'])\n",
      "computer 0 jobs: deque([])\n"
     ]
    }
   ],
   "source": [
    "c = Comp(loglevel='INFO')\n",
    "c += ['mrinfo', '-version']\n",
    "print(c)\n",
    "c.run()\n",
    "print(c)"
   ]
  },
  {
   "cell_type": "code",
   "execution_count": null,
   "metadata": {},
   "outputs": [],
   "source": [
    "#! rsync -aP ~/Dropbox/mrtrix3nb k1465906@nanlnx1.iop.kcl.ac.uk:/home/k1465906/src/"
   ]
  },
  {
   "cell_type": "code",
   "execution_count": null,
   "metadata": {},
   "outputs": [],
   "source": []
  }
 ],
 "metadata": {
  "kernelspec": {
   "display_name": "Python 3",
   "language": "python",
   "name": "python3"
  }
 },
 "nbformat": 4,
 "nbformat_minor": 2
}
