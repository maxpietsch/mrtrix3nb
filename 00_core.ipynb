{
 "cells": [
  {
   "cell_type": "code",
   "execution_count": null,
   "metadata": {},
   "outputs": [],
   "source": [
    "# default_exp core"
   ]
  },
  {
   "cell_type": "markdown",
   "metadata": {},
   "source": [
    "# MRtrix3notebook\n",
    "\n",
    "> Develop MRtrix3-based pipelines using Jupyter notebooks"
   ]
  },
  {
   "cell_type": "code",
   "execution_count": null,
   "metadata": {},
   "outputs": [],
   "source": [
    "#hide\n",
    "from nbdev.showdoc import *"
   ]
  },
  {
   "cell_type": "code",
   "execution_count": null,
   "metadata": {},
   "outputs": [],
   "source": [
    "# export\n",
    "import os\n",
    "import shutil\n",
    "import logging\n",
    "import subprocess\n",
    "import shlex\n",
    "from pathlib import Path\n",
    "from collections import deque\n",
    "import pprint\n",
    "\n",
    "logging.basicConfig()"
   ]
  },
  {
   "cell_type": "code",
   "execution_count": null,
   "metadata": {},
   "outputs": [],
   "source": [
    "# export\n",
    "class Comp:\n",
    "    def __init__(self, dry_run=False, env=os.environ.copy(), loglevel='INFO'):\n",
    "        self.dry_run = dry_run\n",
    "        \n",
    "        self.jobs = deque()\n",
    "        \n",
    "        self.logger = logging.getLogger(__name__)\n",
    "        self.logger.setLevel(loglevel)\n",
    "        \n",
    "        # use directory of python binary\n",
    "        python = shutil.which('python') # None if executable not found\n",
    "        if python is None:\n",
    "            raise ImportError(\"could not find python in Path\")\n",
    "        \n",
    "        if 'PATH' in env:\n",
    "            env['PATH'] = os.pathsep.join([str(Path(python).parent), env.get('PATH')])\n",
    "        self.logger.debug('env: '+pprint.pformat(env))\n",
    "        self.env = env\n",
    "        \n",
    "    \n",
    "    def _execute(self, cmd):\n",
    "        if not self.dry_run:\n",
    "            self.logger.debug('running: ' + cmd)\n",
    "            subprocess.check_call(cmd, shell=True, env=self.env)\n",
    "        else:\n",
    "            self.logger.info('dry_run: ' + cmd)\n",
    "        return \n",
    "        \n",
    "    def run(self):\n",
    "        while self.jobs:\n",
    "            self._execute(self.jobs.popleft())\n",
    "    \n",
    "    def __add__(self, x):\n",
    "        if isinstance(x, list):\n",
    "            x = shlex.join(x)\n",
    "        elif not isinstance(x, str):\n",
    "            raise TypeError(str(type(x)))\n",
    "        self.logger.debug('add: '+x)\n",
    "        self.jobs.append(x)\n",
    "        return self\n",
    "            \n",
    "    def __iadd__(self, x):\n",
    "        return self.__add__(x)\n",
    "            \n",
    "    def __repr__(self):\n",
    "        return 'computer %i jobs: %s' % (self.__len__(), str(self.jobs))\n",
    "    \n",
    "    def __str__(self):\n",
    "        return self.__repr__()\n",
    "    \n",
    "#     def __next__(self):\n",
    "#         return self.jobs.get()\n",
    "    \n",
    "    def __len__(self):\n",
    "        return len(self.jobs)\n",
    "    \n",
    "    def __enter__(self):\n",
    "        self.logger.debug('Entering Comp')\n",
    "        return self\n",
    "\n",
    "    def __exit__(self, exc_type, exc, exc_tb):\n",
    "        self.logger.debug('Exiting Comp')\n",
    "        self.run()"
   ]
  },
  {
   "cell_type": "code",
   "execution_count": null,
   "metadata": {},
   "outputs": [
    {
     "name": "stderr",
     "output_type": "stream",
     "text": [
      "INFO:__main__:start\n",
      "INFO:__main__:done\n",
      "INFO:__main__:dry_run: mrinfo --version\n",
      "INFO:__main__:dry_run: dcminfo --version\n"
     ]
    }
   ],
   "source": [
    "with Comp(dry_run=True) as run:\n",
    "    run.logger.info('start')\n",
    "    run += 'mrinfo --version'\n",
    "    run += ['dcminfo', '--version']\n",
    "    run.logger.info('done')"
   ]
  },
  {
   "cell_type": "code",
   "execution_count": null,
   "metadata": {},
   "outputs": [],
   "source": [
    "c = Comp(loglevel='INFO')\n",
    "c += 'dcminfo --version'\n",
    "\n",
    "c.run()"
   ]
  },
  {
   "cell_type": "code",
   "execution_count": null,
   "metadata": {},
   "outputs": [
    {
     "name": "stdout",
     "output_type": "stream",
     "text": [
      "computer 1 jobs: deque(['mrinfo -version'])\n",
      "computer 0 jobs: deque([])\n"
     ]
    }
   ],
   "source": [
    "c = Comp(loglevel='INFO')\n",
    "c += ['mrinfo', '-version']\n",
    "print(c)\n",
    "c.run()\n",
    "print(c)"
   ]
  },
  {
   "cell_type": "code",
   "execution_count": null,
   "metadata": {},
   "outputs": [],
   "source": []
  },
  {
   "cell_type": "code",
   "execution_count": null,
   "metadata": {},
   "outputs": [],
   "source": []
  }
 ],
 "metadata": {
  "kernelspec": {
   "display_name": "Python 3",
   "language": "python",
   "name": "python3"
  }
 },
 "nbformat": 4,
 "nbformat_minor": 2
}
