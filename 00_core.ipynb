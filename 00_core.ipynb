{
 "cells": [
  {
   "cell_type": "code",
   "execution_count": null,
   "metadata": {},
   "outputs": [],
   "source": [
    "# default_exp core"
   ]
  },
  {
   "cell_type": "markdown",
   "metadata": {},
   "source": [
    "# MRtrix3notebook\n",
    "\n",
    "> Develop MRtrix3-based pipelines using Jupyter notebooks"
   ]
  },
  {
   "cell_type": "code",
   "execution_count": null,
   "metadata": {},
   "outputs": [],
   "source": [
    "#hide\n",
    "from nbdev.showdoc import *"
   ]
  },
  {
   "cell_type": "code",
   "execution_count": null,
   "metadata": {},
   "outputs": [],
   "source": [
    "# export\n",
    "import os\n",
    "from pathlib import Path, PurePath\n",
    "\n",
    "def exists(s, minsize_bytes=100, isdir=False, force=False):\n",
    "    # check if `s` exists (file or dir if `isdir`) and has at least `minsize_bytes` bytes\n",
    "    if isdir:\n",
    "        ex = os.path.isdir(s)\n",
    "        if force and not ex:\n",
    "            raise IOError(s)\n",
    "        return ex\n",
    "    if not os.path.isfile(s):\n",
    "        if force: raise IOError(s)\n",
    "        return False\n",
    "    if isinstance(s, PurePath):\n",
    "        s = str(s)\n",
    "    if s.endswith('.mif') or s.endswith('.mif.gz') or s.endswith('.nii') or s.endswith('.nii.gz'):\n",
    "        size = Path(s).stat().st_size\n",
    "        if size < minsize_bytes:\n",
    "            print(s, 'size', size, 'Bytes')\n",
    "            if force: \n",
    "                raise IOError(s)\n",
    "            return False\n",
    "    return True\n",
    "\n",
    "# exists('/tmp')"
   ]
  },
  {
   "cell_type": "code",
   "execution_count": null,
   "metadata": {},
   "outputs": [],
   "source": [
    "# export\n",
    "import os\n",
    "import shutil\n",
    "import logging\n",
    "import subprocess\n",
    "import shlex\n",
    "from pathlib import Path\n",
    "from collections import deque\n",
    "import pprint\n",
    "\n",
    "logging.basicConfig()"
   ]
  },
  {
   "cell_type": "code",
   "execution_count": null,
   "metadata": {},
   "outputs": [],
   "source": [
    "# def map_paths(cmds, source_target_map):\n",
    "#     dirmap = source_target_map\n",
    "#     keys = sorted(dirmap.keys())\n",
    "#     for key in keys:\n",
    "#         assert np.sum([key in k for k in keys]) == 1, f'keys must no be substrings of each other but \"{key}\" is'\n",
    "\n",
    "#     import re \n",
    "#     import shlex\n",
    "\n",
    "\n",
    "#     regex = re.compile(\"(%s)\" % \"|\".join(map(re.escape, dirmap.keys())))\n",
    "\n",
    "\n",
    "#     mapped_files = dict()\n",
    "#     mapped_jobs = []\n",
    "#     for cmd in cmds:\n",
    "#         mapped = []\n",
    "#         for arg in shlex.split(cmd):\n",
    "#             newarg = regex.sub(lambda mo: dirmap[mo.string[mo.start():mo.end()]], arg)\n",
    "#             if newarg not in ['|', '&&']:\n",
    "#                 newarg = shlex.quote(newarg)\n",
    "#             mapped += [newarg]\n",
    "#             if arg != newarg:\n",
    "#                 if arg in mapped_files:\n",
    "#                     assert mapped_files[arg] == newarg\n",
    "#                 mapped_files[arg] = newarg\n",
    "\n",
    "#         mapped_jobs.append(' '.join(mapped))\n",
    "\n",
    "#     return mapped_jobs, mapped_files\n",
    "\n",
    "# mapped_jobs, mapped_files = map_paths(run.jobs, dirmap)"
   ]
  },
  {
   "cell_type": "code",
   "execution_count": null,
   "metadata": {},
   "outputs": [],
   "source": [
    "# export\n",
    "from tqdm.auto import tqdm\n",
    "import tempfile\n",
    "import re\n",
    "\n",
    "class Comp:\n",
    "    def __benice(self):\n",
    "        try:\n",
    "            import psutil\n",
    "        except ImportError:\n",
    "            print('pip install psutil')\n",
    "            return\n",
    "        \n",
    "        pid = os.getpid()\n",
    "        ps = psutil.Process(pid)\n",
    "        ps.nice(19)\n",
    "        \n",
    "    def __init__(self, dry_run=False, env=None, loglevel='INFO', progress=True, nice=False, dummy=False, path_map_dict=None):\n",
    "        self.dry_run = dry_run\n",
    "        \n",
    "        self.dummy = dummy \n",
    "        \n",
    "        self.path_map = None\n",
    "        self.mapped_files = dict()\n",
    "        if path_map_dict is not None:\n",
    "            self.path_map_dict = path_map_dict\n",
    "            dirmap = path_map_dict\n",
    "            keys = sorted(dirmap.keys())\n",
    "            for key in keys:\n",
    "                assert sum([key in k for k in keys]) == 1, f'keys must no be substrings of each other but \"{key}\" is'\n",
    "            self.path_map = re.compile(\"(%s)\" % \"|\".join(map(re.escape, dirmap.keys())))\n",
    "            \n",
    "            \n",
    "        self.jobs = deque()\n",
    "        \n",
    "        self.logger = logging.getLogger(__name__)\n",
    "        self.logger.setLevel(loglevel)\n",
    "        \n",
    "        # use directory of python binary\n",
    "        python = shutil.which('python') # None if executable not found\n",
    "        if python is None:\n",
    "            raise ImportError(\"could not find python in Path\")\n",
    "        \n",
    "        if env is None:\n",
    "            env = os.environ.copy()\n",
    "        if 'PATH' in env:\n",
    "            env['PATH'] = os.pathsep.join([str(Path(python).parent), env.get('PATH')])\n",
    "        self.logger.debug('env: '+pprint.pformat(env))\n",
    "        self.env = env\n",
    "        self.noprogress = not progress\n",
    "        self.preexec_fn = None\n",
    "        if nice:\n",
    "            self.preexec_fn = self.__benice\n",
    "        self.__tmp_dir = None\n",
    "                    \n",
    "    \n",
    "    def _execute(self, cmd):\n",
    "        if not self.dry_run:\n",
    "            self.logger.debug('running: ' + cmd)\n",
    "            try:\n",
    "                subprocess.check_call(cmd, shell=True, env=self.env, preexec_fn=self.preexec_fn)\n",
    "            except:\n",
    "                self.logger.warning('failed: '+str(cmd))\n",
    "                raise\n",
    "        else:\n",
    "            self.logger.info('dry_run: ' + cmd)\n",
    "        return \n",
    "        \n",
    "    def run(self):\n",
    "        if not self.jobs:\n",
    "            return\n",
    "        \n",
    "        if self.dummy:\n",
    "            self.jobs = deque()\n",
    "            return\n",
    "\n",
    "        if not self.noprogress: pbar = tqdm(total=len(self.jobs))\n",
    "        while self.jobs:\n",
    "            self._execute(self.jobs.popleft())\n",
    "            if not self.noprogress: pbar.update(1)\n",
    "        if not self.noprogress: pbar.close()\n",
    "    \n",
    "    def __map_paths(self, x):\n",
    "        if self.path_map is not None:\n",
    "            x = shlex.split(x)\n",
    "            newx = []\n",
    "            for arg in x:\n",
    "                newarg = self.path_map.sub(lambda mo: self.path_map_dict[mo.string[mo.start():mo.end()]], arg)\n",
    "                if newarg not in ['|', '&&']:\n",
    "                    newarg = shlex.quote(newarg)\n",
    "                newx += [newarg]\n",
    "                if arg != newarg:\n",
    "                    if arg in self.mapped_files:\n",
    "                        assert self.mapped_files[arg] == newarg\n",
    "                    self.mapped_files[arg] = newarg\n",
    "            return ' '.join(newx)\n",
    "        return x\n",
    "    \n",
    "    def __add__(self, x):\n",
    "        if isinstance(x, list):\n",
    "            # convert Pathlib objects to strings\n",
    "            x = [str(e) if isinstance(e, PurePath) else e for e in x]\n",
    "            # join elements, but don't quote |\n",
    "#             try:\n",
    "#                 x = shlex.join(x)\n",
    "#             except AttributeError:\n",
    "            x = ' '.join([shlex.quote(w) if w != '|' and w != '&&' else w for w in x ])\n",
    "        elif not isinstance(x, str):\n",
    "            raise TypeError(\"required input is string or list of strings, received \" + str(type(x)))\n",
    "            \n",
    "        x = self.__map_paths(x)\n",
    "        \n",
    "        self.logger.debug('add: '+x)\n",
    "        self.jobs.append(x)\n",
    "        return self\n",
    "            \n",
    "    def __iadd__(self, x):\n",
    "        return self.__add__(x)\n",
    "            \n",
    "    def __repr__(self):\n",
    "        return 'computer %i jobs: %s' % (self.__len__(), str(self.jobs))\n",
    "    \n",
    "    def __str__(self):\n",
    "        return self.__repr__()\n",
    "    \n",
    "#     def __next__(self):\n",
    "#         return self.jobs.get()\n",
    "    \n",
    "    def __len__(self):\n",
    "        return len(self.jobs)\n",
    "    \n",
    "    def __enter__(self):\n",
    "        self.logger.debug('Entering Comp')\n",
    "        return self\n",
    "\n",
    "    def __exit__(self, exc_type, exc, exc_tb):\n",
    "        self.logger.debug('Exiting Comp')\n",
    "        self.run()\n",
    "        \n",
    "    def tmp_dir(self, suffix=None, prefix=None, tmp='/tmp'):\n",
    "        return tempfile.TemporaryDirectory(suffix=suffix, prefix=prefix, dir=tmp)\n",
    "    \n"
   ]
  },
  {
   "cell_type": "code",
   "execution_count": null,
   "metadata": {},
   "outputs": [],
   "source": [
    "# with Comp(dry_run=False) as run:\n",
    "#     run += 'mrinfo --version && mrregister --version'.split()\n",
    "#     run += 'mrinfo --version && mrregister --version'"
   ]
  },
  {
   "cell_type": "code",
   "execution_count": null,
   "metadata": {},
   "outputs": [
    {
     "name": "stderr",
     "output_type": "stream",
     "text": [
      "INFO:__main__:start\n",
      "/var/folders/0_/x_fhlh1n76bd5hnk6rcmyzg40000gn/T/ipykernel_22103/2639166845.py:7: DeprecationWarning: The 'warn' method is deprecated, use 'warning' instead\n",
      "  run.logger.warn('done')\n",
      "WARNING:__main__:done\n"
     ]
    },
    {
     "data": {
      "application/vnd.jupyter.widget-view+json": {
       "model_id": "db538f6dc0494776a2f2a7011620d347",
       "version_major": 2,
       "version_minor": 0
      },
      "text/plain": [
       "HBox(children=(HTML(value=''), FloatProgress(value=0.0, max=4.0), HTML(value='')))"
      ]
     },
     "metadata": {},
     "output_type": "display_data"
    },
    {
     "name": "stdout",
     "output_type": "stream",
     "text": [
      "/Users/mp/anaconda3/envs/notebook/bin/mrinfo\n",
      "== mrinfo 3.0.3 ==\n",
      "64 bit release version, built Jul 19 2021, using Eigen 3.3.7\n",
      "Author(s): J-Donald Tournier (d.tournier@brain.org.au) and Robert E. Smith (robert.smith@florey.edu.au)\n",
      "Copyright (c) 2008-2021 the MRtrix3 contributors.\n",
      "\n",
      "This Source Code Form is subject to the terms of the Mozilla Public\n",
      "License, v. 2.0. If a copy of the MPL was not distributed with this\n",
      "file, You can obtain one at http://mozilla.org/MPL/2.0/.\n",
      "\n",
      "Covered Software is provided under this License on an \"as is\"\n",
      "basis, without warranty of any kind, either expressed, implied, or\n",
      "statutory, including, without limitation, warranties that the\n",
      "Covered Software is free of defects, merchantable, fit for a\n",
      "particular purpose or non-infringing.\n",
      "See the Mozilla Public License v. 2.0 for more details.\n",
      "\n",
      "For more details, see http://www.mrtrix.org/.\n",
      "\n",
      "== dcminfo 3.0.3 ==\n",
      "64 bit release version, built Jul 19 2021, using Eigen 3.3.7\n",
      "Author(s): J-Donald Tournier (jdtournier@gmail.com)\n",
      "Copyright (c) 2008-2021 the MRtrix3 contributors.\n",
      "\n",
      "This Source Code Form is subject to the terms of the Mozilla Public\n",
      "License, v. 2.0. If a copy of the MPL was not distributed with this\n",
      "file, You can obtain one at http://mozilla.org/MPL/2.0/.\n",
      "\n",
      "Covered Software is provided under this License on an \"as is\"\n",
      "basis, without warranty of any kind, either expressed, implied, or\n",
      "statutory, including, without limitation, warranties that the\n",
      "Covered Software is free of defects, merchantable, fit for a\n",
      "particular purpose or non-infringing.\n",
      "See the Mozilla Public License v. 2.0 for more details.\n",
      "\n",
      "For more details, see http://www.mrtrix.org/.\n",
      "\n",
      "\n"
     ]
    }
   ],
   "source": [
    "with Comp(dry_run=False) as run:\n",
    "    run.logger.info('start')\n",
    "    run += 'which mrinfo'\n",
    "    run += 'mrinfo --version'\n",
    "    run += 'sleep 3'\n",
    "    run += ['dcminfo', '--version']\n",
    "    run.logger.warn('done')"
   ]
  },
  {
   "cell_type": "code",
   "execution_count": null,
   "metadata": {},
   "outputs": [
    {
     "name": "stdout",
     "output_type": "stream",
     "text": [
      "['mrinfo', '--version', '&&', 'mrregister', '--version']\n"
     ]
    },
    {
     "data": {
      "application/vnd.jupyter.widget-view+json": {
       "model_id": "b342b69bd42147c690b4b6beb30daadd",
       "version_major": 2,
       "version_minor": 0
      },
      "text/plain": [
       "HBox(children=(HTML(value=''), FloatProgress(value=0.0, max=1.0), HTML(value='')))"
      ]
     },
     "metadata": {},
     "output_type": "display_data"
    },
    {
     "name": "stderr",
     "output_type": "stream",
     "text": [
      "INFO:__main__:dry_run: mrinfo --version '&&' mrregister --version\n"
     ]
    },
    {
     "name": "stdout",
     "output_type": "stream",
     "text": [
      "\n"
     ]
    }
   ],
   "source": []
  },
  {
   "cell_type": "code",
   "execution_count": null,
   "metadata": {},
   "outputs": [],
   "source": []
  },
  {
   "cell_type": "code",
   "execution_count": null,
   "metadata": {},
   "outputs": [],
   "source": []
  },
  {
   "cell_type": "code",
   "execution_count": null,
   "metadata": {},
   "outputs": [],
   "source": [
    "# class DummyRun:\n",
    "#     def __init__(self):\n",
    "#         self.queue = []\n",
    "        \n",
    "#     def __add__(self, cmd):\n",
    "#         self.queue.append(cmd)\n",
    "        \n",
    "#     def __iadd__(self, cmd):\n",
    "#         self.queue.append(cmd)\n",
    "#         return self\n",
    "    \n",
    "#     def __len__(self):\n",
    "#         return len(self.jobs)\n",
    "    \n",
    "#     def __repr__(self):\n",
    "#         return 'computer %i jobs: %s' % (self.__len__(), str(self.jobs))\n",
    "    \n",
    "#     def __str__(self):\n",
    "#         return self.__repr__()\n",
    "    \n",
    "#     def __enter__(self):\n",
    "#         return self\n",
    "\n",
    "#     def __exit__(self, exc_type, exc, exc_tb):\n",
    "#         self.queue = []"
   ]
  },
  {
   "cell_type": "code",
   "execution_count": null,
   "metadata": {},
   "outputs": [],
   "source": []
  },
  {
   "cell_type": "code",
   "execution_count": null,
   "metadata": {},
   "outputs": [
    {
     "name": "stderr",
     "output_type": "stream",
     "text": [
      "INFO:__main__:start\n",
      "INFO:__main__:done\n"
     ]
    },
    {
     "data": {
      "application/vnd.jupyter.widget-view+json": {
       "model_id": "ca0e6219c7ee468b95e2904a3d646829",
       "version_major": 2,
       "version_minor": 0
      },
      "text/plain": [
       "HBox(children=(HTML(value=''), FloatProgress(value=0.0, max=2.0), HTML(value='')))"
      ]
     },
     "metadata": {},
     "output_type": "display_data"
    },
    {
     "name": "stderr",
     "output_type": "stream",
     "text": [
      "INFO:__main__:dry_run: mrinfo --version\n",
      "INFO:__main__:dry_run: dcminfo --version\n"
     ]
    },
    {
     "name": "stdout",
     "output_type": "stream",
     "text": [
      "\n"
     ]
    }
   ],
   "source": [
    "with Comp(dry_run=True) as run:\n",
    "    run.logger.info('start')\n",
    "    run += 'mrinfo --version'\n",
    "    run += ['dcminfo', '--version']\n",
    "    run.logger.info('done')"
   ]
  },
  {
   "cell_type": "code",
   "execution_count": null,
   "metadata": {},
   "outputs": [
    {
     "name": "stdout",
     "output_type": "stream",
     "text": [
      "/tmp/tmpent1x3vh\n"
     ]
    },
    {
     "data": {
      "application/vnd.jupyter.widget-view+json": {
       "model_id": "9443a60633004b67b1c76e506f9386d9",
       "version_major": 2,
       "version_minor": 0
      },
      "text/plain": [
       "HBox(children=(HTML(value=''), FloatProgress(value=0.0, max=1.0), HTML(value='')))"
      ]
     },
     "metadata": {},
     "output_type": "display_data"
    },
    {
     "name": "stdout",
     "output_type": "stream",
     "text": [
      "\n"
     ]
    }
   ],
   "source": [
    "c = Comp(loglevel='INFO', nice=True, env={**os.environ, 'MRTRIX_NTHREADS':'4'})\n",
    "with c.tmp_dir() as tmp:\n",
    "    print(tmp)\n",
    "    assert exists(tmp, isdir=True), tmp\n",
    "    c += 'dcminfo --version'\n",
    "    c.run()\n",
    "assert not exists(tmp, isdir=True), tmp"
   ]
  },
  {
   "cell_type": "code",
   "execution_count": null,
   "metadata": {},
   "outputs": [
    {
     "name": "stdout",
     "output_type": "stream",
     "text": [
      "set in descriptor object\n",
      "returned from descriptor object\n",
      "10\n"
     ]
    }
   ],
   "source": [
    "# this is our descriptor object\n",
    "class Bar(object):\n",
    "    def __init__(self):\n",
    "        self.value = ''\n",
    "    def __get__(self, instance, owner):\n",
    "        print (\"returned from descriptor object\")\n",
    "        return self.value\n",
    "    def __set__(self, instance, value):\n",
    "        print (\"set in descriptor object\")\n",
    "        self.value = value\n",
    "    def __delete__(self, instance):\n",
    "        print (\"deleted in descriptor object\")\n",
    "        del self.value\n",
    "\n",
    "class Foo(object):\n",
    "    bar = Bar()\n",
    "\n",
    "f = Foo()\n",
    "f.bar = 10\n",
    "print( f.bar)\n",
    "f = Foo()"
   ]
  },
  {
   "cell_type": "code",
   "execution_count": null,
   "metadata": {},
   "outputs": [],
   "source": [
    "# export \n",
    "\n",
    "def aprint(array, prefix=''):\n",
    "    \n",
    "    \"\"\" pretty print numpy array and its name \n",
    "\n",
    "    adapted from https://stackoverflow.com/a/38434232/2389450\n",
    "    \"\"\"\n",
    "    import re\n",
    "    import numpy as np\n",
    "    if prefix:\n",
    "        prefix = str(prefix + ' = ')\n",
    "    else:\n",
    "        try:\n",
    "            import inspect, ast\n",
    "\n",
    "            frame = inspect.currentframe()\n",
    "            frame = inspect.getouterframes(frame)[2]\n",
    "            string = inspect.findsource(frame[0])[0]\n",
    "\n",
    "            nodes = ast.parse(''.join(string))\n",
    "\n",
    "            i_expr = -1\n",
    "            for (i, node) in enumerate(nodes.body):\n",
    "                if hasattr(node, 'value') and isinstance(node.value, ast.Call) and hasattr(node.value.func, 'id') and node.value.func.id == 'aprint':\n",
    "                    i_expr = i\n",
    "                    break\n",
    "\n",
    "            i_expr_next = min(i_expr + 1, len(nodes.body)-1)  \n",
    "            lineno_start = nodes.body[i_expr].lineno\n",
    "            lineno_end = nodes.body[i_expr_next].lineno if i_expr_next != i_expr else len(string)\n",
    "\n",
    "            str_func_call = ''.join([i.strip() for i in string[lineno_start - 1: lineno_end]])\n",
    "            params = str_func_call[len('aprint('):-1]# [str_func_call.find('(') + 1:-1].split(',')\n",
    "            prefix = params + ' ='\n",
    "        except:\n",
    "            prefix = ''\n",
    "    value_str = re.sub(r'[\\[\\]]', ' ', np.array2string(np.asanyarray(array), precision=6, separator=', ', max_line_width=100))\n",
    "    value_str = value_str.replace('\\n', '\\n' + (' '*len(prefix)))\n",
    "\n",
    "    print(prefix + value_str)"
   ]
  },
  {
   "cell_type": "code",
   "execution_count": null,
   "metadata": {},
   "outputs": [],
   "source": []
  },
  {
   "cell_type": "code",
   "execution_count": null,
   "metadata": {},
   "outputs": [],
   "source": []
  },
  {
   "cell_type": "code",
   "execution_count": null,
   "metadata": {},
   "outputs": [
    {
     "name": "stdout",
     "output_type": "stream",
     "text": [
      "computer 1 jobs: deque(['mrinfo -version'])\n",
      "computer 0 jobs: deque([])\n"
     ]
    }
   ],
   "source": [
    "c = Comp(loglevel='INFO')\n",
    "c += ['mrinfo', '-version']\n",
    "print(c)\n",
    "c.run()\n",
    "print(c)"
   ]
  },
  {
   "cell_type": "code",
   "execution_count": null,
   "metadata": {},
   "outputs": [],
   "source": [
    "#! rsync -aP ~/Dropbox/mrtrix3nb k1465906@nanlnx1.iop.kcl.ac.uk:/home/k1465906/src/"
   ]
  },
  {
   "cell_type": "code",
   "execution_count": null,
   "metadata": {},
   "outputs": [
    {
     "name": "stdout",
     "output_type": "stream",
     "text": [
      "nbdev_build_lib\n",
      "Converted 00_core.ipynb.\n",
      "Converted index.ipynb.\n",
      "Converted mif.ipynb.\n",
      "Converted reg.ipynb.\n",
      "Converted vis.ipynb.\n",
      "touch mrtrix3nb\n",
      "nbdev_build_docs\n",
      "converting: /Users/mp/Dropbox/mrtrix3nb/00_core.ipynb\n",
      "converting /Users/mp/Dropbox/mrtrix3nb/index.ipynb to README.md\n",
      "touch docs\n"
     ]
    }
   ],
   "source": []
  },
  {
   "cell_type": "code",
   "execution_count": null,
   "metadata": {},
   "outputs": [],
   "source": []
  }
 ],
 "metadata": {
  "kernelspec": {
   "display_name": "Python 3",
   "language": "python",
   "name": "python3"
  }
 },
 "nbformat": 4,
 "nbformat_minor": 2
}
